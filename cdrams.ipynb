{
 "cells": [
  {
   "cell_type": "code",
   "execution_count": 4,
   "id": "ea67b696",
   "metadata": {},
   "outputs": [
    {
     "name": "stdout",
     "output_type": "stream",
     "text": [
      "<!DOCTYPE html>\n",
      "<html xmlns:fb=\"http://www.facebook.com/2008/fbml\" xmlns:og=\"http://ogp.me/ns#\">\n",
      " <head>\n",
      "  <meta charset=\"utf-8\"/>\n",
      "  <script type=\"text/javascript\">\n",
      "   var IMDbTimer={starttime: new Date().getTime(),pt:'java'};\n",
      "  </script>\n",
      "  <script>\n",
      "   if (typeof uet == 'function') {\n",
      "      uet(\"bb\", \"LoadTitle\", {wb: 1});\n",
      "    }\n",
      "  </script>\n",
      "  <script>\n",
      "   (function(t){ (t.events = t.events || {})[\"csm_head_pre_title\"] = new Date().getTime(); })(IMDbTimer);\n",
      "  </script>\n",
      "  <title>\n",
      "   TV Series,\n",
      "China\n",
      "(Sorted by Popularity Ascending) - IMDb\n",
      "  </title>\n",
      "  <script>\n",
      "   (function(t){ (t.events = t.events || {})[\"csm_head_post_title\"] = new Date().getTime(); })(IMDbTimer);\n",
      "  </script>\n",
      "  <script>\n",
      "   if (typeof uet == 'function') {\n",
      "      uet(\"be\", \"LoadTitle\", {wb: 1});\n",
      "    }\n",
      "  </script>\n",
      "  <script>\n",
      "   if (typeof uex == 'function') {\n"
     ]
    }
   ],
   "source": [
    "import requests \n",
    "from urllib.request import urlopen\n",
    "from bs4  import BeautifulSoup as bs\n",
    "import pandas as pd\n",
    "url=\"https://www.imdb.com/search/title/?countries=cn&sort=moviemeter&title_type=tv_series\"\n",
    "page_imdb=urlopen(url)\n",
    "bs_imdb=bs(page_imdb,'html.parser')\n",
    "print(\"\\n\".join(bs_imdb.prettify().splitlines()[0:30]))"
   ]
  },
  {
   "cell_type": "code",
   "execution_count": 9,
   "id": "f33881b8",
   "metadata": {},
   "outputs": [
    {
     "name": "stdout",
     "output_type": "stream",
     "text": [
      "50\n"
     ]
    }
   ],
   "source": [
    "dramas=bs_imdb.findAll(\"div\",class_=\"lister-item mode-advanced\")\n",
    "print(len(dramas))"
   ]
  },
  {
   "cell_type": "code",
   "execution_count": 6,
   "id": "23aefb1a",
   "metadata": {},
   "outputs": [
    {
     "data": {
      "text/plain": [
       "'1.Tou tou cang bu zhu(2023)'"
      ]
     },
     "execution_count": 6,
     "metadata": {},
     "output_type": "execute_result"
    }
   ],
   "source": [
    "# get the first drama name\n",
    "first_drama=dramas[0].find(\"h3\").get_text(strip=True)\n",
    "first_drama"
   ]
  },
  {
   "cell_type": "code",
   "execution_count": 21,
   "id": "4c6a39dd",
   "metadata": {},
   "outputs": [
    {
     "data": {
      "text/plain": [
       "''"
      ]
     },
     "execution_count": 21,
     "metadata": {},
     "output_type": "execute_result"
    }
   ],
   "source": [
    "drama_name=dramas[0]\n",
    "drama_names=dramas[0].find(\"a\").get_text(strip=True)\n",
    "drama_names\n"
   ]
  },
  {
   "cell_type": "code",
   "execution_count": 24,
   "id": "032f7589",
   "metadata": {},
   "outputs": [
    {
     "data": {
      "text/plain": [
       "'(2023)'"
      ]
     },
     "execution_count": 24,
     "metadata": {},
     "output_type": "execute_result"
    }
   ],
   "source": [
    "year=dramas[0].find(\"span\",class_=\"lister-item-year text-muted unbold\").string.strip()\n",
    "year"
   ]
  },
  {
   "cell_type": "code",
   "execution_count": 8,
   "id": "a65d5c45",
   "metadata": {},
   "outputs": [
    {
     "data": {
      "text/plain": [
       "'8.7'"
      ]
     },
     "execution_count": 8,
     "metadata": {},
     "output_type": "execute_result"
    }
   ],
   "source": [
    "ratings=dramas[0].find(\"strong\").get_text(strip=True)\n",
    "ratings"
   ]
  },
  {
   "cell_type": "code",
   "execution_count": 19,
   "id": "ec925727",
   "metadata": {},
   "outputs": [
    {
     "data": {
      "text/plain": [
       "'Drama, Romance'"
      ]
     },
     "execution_count": 19,
     "metadata": {},
     "output_type": "execute_result"
    }
   ],
   "source": [
    "genre=dramas[0].find(\"span\",class_=\"genre\").string.strip()\n",
    "genre"
   ]
  },
  {
   "cell_type": "code",
   "execution_count": 175,
   "id": "4b2cc677",
   "metadata": {},
   "outputs": [
    {
     "name": "stdout",
     "output_type": "stream",
     "text": [
      "Zhang Jiong Min\n",
      "Zheyuan Chen\n",
      "Lusi Zhao\n",
      "Victor Ma\n",
      "['Zhang Jiong Min', 'Zheyuan Chen', 'Lusi Zhao', 'Victor Ma']\n",
      "Zhang Jiong Min\n"
     ]
    }
   ],
   "source": [
    "stars=dramas[0].find(\"p\",class_=\"\")\n",
    "stars\n",
    "star=stars.findAll(\"a\")\n",
    "star\n",
    "actors=[]\n",
    "for s in star:\n",
    "    star=s.string\n",
    "    print(star)\n",
    "    actors.append(star)\n",
    "print(actors)\n",
    "print(actors[0])"
   ]
  },
  {
   "cell_type": "code",
   "execution_count": 208,
   "id": "9a238791",
   "metadata": {},
   "outputs": [
    {
     "name": "stdout",
     "output_type": "stream",
     "text": [
      "<p class=\"sort-num_votes-visible\">\n",
      "<span class=\"text-muted\">Votes:</span>\n",
      "<span data-value=\"233\" name=\"nv\">233</span>\n",
      "</p>\n"
     ]
    }
   ],
   "source": [
    "vote=drama.find(\"p\",class_=\"sort-num_votes-visible\")\n",
    "print(vote)"
   ]
  },
  {
   "cell_type": "code",
   "execution_count": 207,
   "id": "30641794",
   "metadata": {},
   "outputs": [
    {
     "data": {
      "text/html": [
       "<div>\n",
       "<style scoped>\n",
       "    .dataframe tbody tr th:only-of-type {\n",
       "        vertical-align: middle;\n",
       "    }\n",
       "\n",
       "    .dataframe tbody tr th {\n",
       "        vertical-align: top;\n",
       "    }\n",
       "\n",
       "    .dataframe thead th {\n",
       "        text-align: right;\n",
       "    }\n",
       "</style>\n",
       "<table border=\"1\" class=\"dataframe\">\n",
       "  <thead>\n",
       "    <tr style=\"text-align: right;\">\n",
       "      <th></th>\n",
       "      <th>Name</th>\n",
       "      <th>Year</th>\n",
       "      <th>Rating</th>\n",
       "      <th>Genre</th>\n",
       "      <th>Actors</th>\n",
       "      <th>Votes</th>\n",
       "    </tr>\n",
       "  </thead>\n",
       "  <tbody>\n",
       "    <tr>\n",
       "      <th>0</th>\n",
       "      <td>1.Tou tou cang bu zhu(2023)</td>\n",
       "      <td>(2023)</td>\n",
       "      <td>[8.7]</td>\n",
       "      <td>Drama, Romance</td>\n",
       "      <td>Stars:Zhang Jiong Min,Zheyuan Chen,Lusi Zhao,V...</td>\n",
       "      <td>[\\n, [Votes:], \\n, [1,858], \\n]</td>\n",
       "    </tr>\n",
       "    <tr>\n",
       "      <th>1</th>\n",
       "      <td>2.Yu Gu Yao(2023– )</td>\n",
       "      <td>(2023– )</td>\n",
       "      <td>[8.4]</td>\n",
       "      <td>Fantasy, Romance</td>\n",
       "      <td>Stars:Zhan Xiao,Min Ren,Yilun Fang,Churan Wang</td>\n",
       "      <td>[\\n, [Votes:], \\n, [2,152], \\n]</td>\n",
       "    </tr>\n",
       "    <tr>\n",
       "      <th>2</th>\n",
       "      <td>3.Wo de ren jian yan huo(2023– )</td>\n",
       "      <td>(2023– )</td>\n",
       "      <td>[7.9]</td>\n",
       "      <td>Action, Romance</td>\n",
       "      <td>Stars:Yang Yang,Churan Wang,Chaoyue Yang,Asai ...</td>\n",
       "      <td>[\\n, [Votes:], \\n, [868], \\n]</td>\n",
       "    </tr>\n",
       "    <tr>\n",
       "      <th>3</th>\n",
       "      <td>4.The Inbetweeners(2008–2010)</td>\n",
       "      <td>(2008–2010)</td>\n",
       "      <td>[8.4]</td>\n",
       "      <td>Comedy</td>\n",
       "      <td>Stars:Simon Bird,James Buckley,Blake Harrison,...</td>\n",
       "      <td>[\\n, [Votes:], \\n, [91,471], \\n]</td>\n",
       "    </tr>\n",
       "    <tr>\n",
       "      <th>4</th>\n",
       "      <td>5.Shi Guang Dai Li Ren(2021– )</td>\n",
       "      <td>(2021– )</td>\n",
       "      <td>[8.6]</td>\n",
       "      <td>Animation, Crime, Drama</td>\n",
       "      <td>Stars:Zeno Robinson,Alejandro Saab,Suzie Yeung...</td>\n",
       "      <td>[\\n, [Votes:], \\n, [2,839], \\n]</td>\n",
       "    </tr>\n",
       "  </tbody>\n",
       "</table>\n",
       "</div>"
      ],
      "text/plain": [
       "                               Name         Year Rating  \\\n",
       "0       1.Tou tou cang bu zhu(2023)       (2023)  [8.7]   \n",
       "1               2.Yu Gu Yao(2023– )     (2023– )  [8.4]   \n",
       "2  3.Wo de ren jian yan huo(2023– )     (2023– )  [7.9]   \n",
       "3     4.The Inbetweeners(2008–2010)  (2008–2010)  [8.4]   \n",
       "4    5.Shi Guang Dai Li Ren(2021– )     (2021– )  [8.6]   \n",
       "\n",
       "                     Genre                                             Actors  \\\n",
       "0           Drama, Romance  Stars:Zhang Jiong Min,Zheyuan Chen,Lusi Zhao,V...   \n",
       "1         Fantasy, Romance     Stars:Zhan Xiao,Min Ren,Yilun Fang,Churan Wang   \n",
       "2          Action, Romance  Stars:Yang Yang,Churan Wang,Chaoyue Yang,Asai ...   \n",
       "3                   Comedy  Stars:Simon Bird,James Buckley,Blake Harrison,...   \n",
       "4  Animation, Crime, Drama  Stars:Zeno Robinson,Alejandro Saab,Suzie Yeung...   \n",
       "\n",
       "                              Votes  \n",
       "0   [\\n, [Votes:], \\n, [1,858], \\n]  \n",
       "1   [\\n, [Votes:], \\n, [2,152], \\n]  \n",
       "2     [\\n, [Votes:], \\n, [868], \\n]  \n",
       "3  [\\n, [Votes:], \\n, [91,471], \\n]  \n",
       "4   [\\n, [Votes:], \\n, [2,839], \\n]  "
      ]
     },
     "execution_count": 207,
     "metadata": {},
     "output_type": "execute_result"
    }
   ],
   "source": [
    "rating=[]\n",
    "name=[]\n",
    "genres=[]\n",
    "years=[]\n",
    "stars=[]\n",
    "votes=[]\n",
    "for drama in dramas:\n",
    "    ratings=drama.find(\"strong\")\n",
    "    \n",
    "    first_drama=drama.find(\"h3\").get_text(strip=True)\n",
    "    genre=drama.find(\"span\",class_='genre').string.strip()\n",
    "    year=drama.find(\"span\",class_=\"lister-item-year text-muted unbold\").string\n",
    "    actors=drama.find(\"p\",class_=\"\" ).get_text(strip=True)\n",
    "    vote=drama.find(\"p\",class_=\"sort-num_votes-visible\")\n",
    "    rating.append(ratings)\n",
    "    name.append(first_drama)\n",
    "    genres.append(genre)\n",
    "    years.append(year)\n",
    "    stars.append(actors)\n",
    "    votes.append(vote)\n",
    "df_drama=pd.DataFrame({\"Name\":name,\"Year\":years,\"Rating\":rating,\"Genre\":genres,\"Actors\":stars,\"Votes\":votes})\n",
    "df_drama.head()\n",
    "    "
   ]
  },
  {
   "cell_type": "code",
   "execution_count": 200,
   "id": "b124e555",
   "metadata": {},
   "outputs": [
    {
     "name": "stdout",
     "output_type": "stream",
     "text": [
      "  Rating\n",
      "0  [8.7]\n",
      "1  [8.4]\n",
      "2  [7.9]\n",
      "3  [8.4]\n",
      "4  [8.6]\n",
      "Rating\n",
      "<class 'str'>\n"
     ]
    }
   ],
   "source": [
    "ratin=df_drama[['Rating']]\n",
    "for rate in ratin:\n",
    "    print(ratin.head())\n",
    "    print(rate)\n",
    "    print(type(rate))\n",
    "    if rate==\"8.7\":\n",
    "        print(ratin.head())\n"
   ]
  }
 ],
 "metadata": {
  "kernelspec": {
   "display_name": "Python 3 (ipykernel)",
   "language": "python",
   "name": "python3"
  },
  "language_info": {
   "codemirror_mode": {
    "name": "ipython",
    "version": 3
   },
   "file_extension": ".py",
   "mimetype": "text/x-python",
   "name": "python",
   "nbconvert_exporter": "python",
   "pygments_lexer": "ipython3",
   "version": "3.10.9"
  }
 },
 "nbformat": 4,
 "nbformat_minor": 5
}
